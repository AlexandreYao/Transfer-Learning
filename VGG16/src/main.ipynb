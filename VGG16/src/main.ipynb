{
 "cells": [
  {
   "cell_type": "code",
   "execution_count": null,
   "metadata": {},
   "outputs": [],
   "source": [
    "from utils import FilteredImageFolder, count_trainable_parameters, count_elements_per_class\n",
    "from torchvision import transforms, datasets\n",
    "from torchvision.models import vgg16\n",
    "import matplotlib.pyplot as plt\n",
    "import torch.optim as optim\n",
    "import torch.nn as nn\n",
    "from tqdm import tqdm\n",
    "import numpy as np\n",
    "import random\n",
    "import torch\n",
    "import os\n",
    "\n",
    "manualSeed = 999 \n",
    "print(\"Random Seed: \", manualSeed)\n",
    "random.seed(manualSeed)\n",
    "torch.manual_seed(manualSeed)\n",
    "torch.use_deterministic_algorithms(True)  \n",
    "device = torch.device(\"cuda\" if torch.cuda.is_available() else \"cpu\")\n",
    "print(f\"runnning on {device}\")"
   ]
  },
  {
   "cell_type": "markdown",
   "metadata": {},
   "source": [
    "# Hyperparameters"
   ]
  },
  {
   "cell_type": "code",
   "execution_count": null,
   "metadata": {},
   "outputs": [],
   "source": [
    "batch_size = 16\n",
    "learning_rate = 0.001\n",
    "num_epochs = 1"
   ]
  },
  {
   "cell_type": "markdown",
   "metadata": {},
   "source": [
    "# Datasets"
   ]
  },
  {
   "cell_type": "code",
   "execution_count": null,
   "metadata": {},
   "outputs": [],
   "source": [
    "data_dir = r\"C:\\Users\\yaoko\\Downloads\\archive\\fruits-360-original-size\\fruits-360-original-size\"\n",
    "TRAIN = \"Training\"\n",
    "VAL = \"Validation\"\n",
    "TEST = \"Test\"\n",
    "data_transforms = {\n",
    "    TRAIN: transforms.Compose(\n",
    "        [\n",
    "            transforms.Resize((224, 224)),\n",
    "            transforms.ToTensor(),\n",
    "        ]\n",
    "    ),\n",
    "    VAL: transforms.Compose(\n",
    "        [\n",
    "            transforms.Resize((224, 224)),\n",
    "            transforms.ToTensor(),\n",
    "        ]\n",
    "    ),\n",
    "    TEST: transforms.Compose(\n",
    "        [\n",
    "            transforms.Resize((224, 224)),\n",
    "            transforms.ToTensor(),\n",
    "        ]\n",
    "    ),\n",
    "}\n",
    "classes_to_include = [\n",
    "    \"apple_6\",\n",
    "    \"apple_braeburn_1\",\n",
    "    \"apple_crimson_snow_1\",\n",
    "]\n",
    "image_datasets = {\n",
    "    # x: datasets.ImageFolder(os.path.join(data_dir, x), transform=data_transforms[x])\n",
    "    x: FilteredImageFolder(\n",
    "        root=os.path.join(data_dir, x),\n",
    "        classes_to_include=classes_to_include,\n",
    "        transform=data_transforms[x],\n",
    "    )\n",
    "    for x in [TRAIN, VAL, TEST]\n",
    "}\n",
    "dataloaders = {\n",
    "    x: torch.utils.data.DataLoader(\n",
    "        image_datasets[x], batch_size=batch_size, shuffle=True, num_workers=4\n",
    "    )\n",
    "    for x in [TRAIN, VAL, TEST]\n",
    "}\n",
    "dataset_sizes = {x: len(image_datasets[x]) for x in [TRAIN, VAL, TEST]}\n",
    "for x in [TRAIN, VAL, TEST]:\n",
    "    print(\"Loaded {} images under {}\".format(dataset_sizes[x], x))\n",
    "class_names = image_datasets[TRAIN].classes\n",
    "n_classes = len(class_names)"
   ]
  },
  {
   "cell_type": "code",
   "execution_count": null,
   "metadata": {},
   "outputs": [],
   "source": [
    "for x in [TRAIN, VAL, TEST]:\n",
    "    print(\"-\" * 30)\n",
    "    print(x)\n",
    "    class_counts = count_elements_per_class(image_datasets[x])\n",
    "    for class_name, count in class_counts.items():\n",
    "        print(f\"\\t{class_name} => : {count}\")"
   ]
  },
  {
   "cell_type": "code",
   "execution_count": null,
   "metadata": {},
   "outputs": [],
   "source": [
    "num_images_to_display = 20\n",
    "dataset = image_datasets[TRAIN]\n",
    "fig, axes = plt.subplots(4, 5, figsize=(15, 8))\n",
    "for i, ith_dataset in enumerate(\n",
    "    np.random.randint(low=0, high=len(dataset), size=num_images_to_display)\n",
    "):\n",
    "    image, label = dataset[ith_dataset]\n",
    "    axes[i // 5, i % 5].imshow(image.numpy().transpose((1, 2, 0)))\n",
    "    axes[i // 5, i % 5].axis(\"off\")\n",
    "    axes[i // 5, i % 5].set_title(class_names[label])\n",
    "plt.show()"
   ]
  },
  {
   "cell_type": "markdown",
   "metadata": {},
   "source": [
    "# Model"
   ]
  },
  {
   "cell_type": "code",
   "execution_count": null,
   "metadata": {},
   "outputs": [],
   "source": [
    "model = vgg16(weights=\"DEFAULT\")\n",
    "n1 = count_trainable_parameters(model)\n",
    "print(\"VGG16 number of trainable parameters\", f\"{n1:,d}\")\n",
    "# Freeze training for all layers\n",
    "for param in model.parameters():\n",
    "    param.require_grad = False\n",
    "n_inputs = model.classifier[6].in_features\n",
    "model.classifier[6] = nn.Sequential(\n",
    "    nn.Linear(n_inputs, n_classes), nn.LogSoftmax(dim=1)\n",
    ")\n",
    "n2 = count_trainable_parameters(model)\n",
    "print(\"Custom model number of trainable parameters\", f\"{n2:,d}\")\n",
    "print(f\"{(n1-n2):,d}\")\n",
    "print(model.classifier)"
   ]
  },
  {
   "cell_type": "markdown",
   "metadata": {},
   "source": [
    "# Training"
   ]
  },
  {
   "cell_type": "code",
   "execution_count": null,
   "metadata": {},
   "outputs": [],
   "source": [
    "criterion = nn.NLLLoss()\n",
    "optimizer = optim.Adam(model.parameters(), lr=learning_rate)\n",
    "# Boucle d'entraînement\n",
    "train_losses = []\n",
    "dataloader = dataloaders[TRAIN]\n",
    "n_batch = len(dataloader)\n",
    "print_nbatch_step = 10\n",
    "for epoch in range(num_epochs):\n",
    "    model.train()\n",
    "    epoch_loss = 0.0\n",
    "    print(f\"Epoch {epoch+1}...\")\n",
    "    batch_loss = 0.0\n",
    "    for batch_idx, batch_data in enumerate(tqdm(dataloader, total=n_batch)):\n",
    "        images = batch_data[0].to(device)\n",
    "        labels = batch_data[1].to(device)\n",
    "        # Réinitialiser les gradients\n",
    "        optimizer.zero_grad()\n",
    "        # Propagation avant\n",
    "        predictions = model(images)\n",
    "        # Calcul de la perte\n",
    "        loss = criterion(predictions, labels)\n",
    "        # Rétropropagation\n",
    "        loss.backward()\n",
    "        # Mise à jour des poids\n",
    "        optimizer.step()\n",
    "        epoch_loss += loss.item()\n",
    "        batch_loss += loss.item()\n",
    "        if (batch_idx + 1) % print_nbatch_step == 0: \n",
    "            print(f\"  Batch [{batch_idx+1}/{n_batch}], Avg Loss: {batch_loss/print_nbatch_step:.4f}\")\n",
    "            batch_loss = 0.0\n",
    "    epoch_loss /= n_batch\n",
    "    train_losses.append(epoch_loss)\n",
    "    print(f\"Epoch [{epoch+1}/{num_epochs}], loss: {epoch_loss:.4f}\")"
   ]
  },
  {
   "cell_type": "code",
   "execution_count": null,
   "metadata": {},
   "outputs": [],
   "source": [
    "plt.figure(figsize=(10, 5))\n",
    "plt.plot(range(1, num_epochs + 1), train_losses, marker='o', linestyle='-', color='b')\n",
    "plt.xlabel('Epoch')\n",
    "plt.ylabel('Loss')\n",
    "plt.title('Training Loss per Epoch')\n",
    "plt.grid(True)\n",
    "plt.show()"
   ]
  },
  {
   "cell_type": "markdown",
   "metadata": {},
   "source": [
    "# Test"
   ]
  },
  {
   "cell_type": "code",
   "execution_count": null,
   "metadata": {},
   "outputs": [],
   "source": [
    "model.eval()\n",
    "test_losses = []\n",
    "correct = 0\n",
    "total = 0\n",
    "with torch.no_grad():\n",
    "    for batch_data in tqdm(dataloaders[TEST]):\n",
    "        images = batch_data[0].to(device)\n",
    "        labels = batch_data[1].to(device)\n",
    "        predictions = model(images)\n",
    "        loss = criterion(predictions, labels)\n",
    "        test_losses.append(loss.item())\n",
    "        _, predicted = torch.max(predictions, 1)\n",
    "        total += labels.size(0)\n",
    "        correct += (predicted == labels).sum().item()\n",
    "average_test_loss = np.mean(test_losses)\n",
    "print(f\"Average Test Loss: {average_test_loss:.4f}\")\n",
    "accuracy = 100 * correct / total\n",
    "print(f\"Accuracy on Test Data: {accuracy:.2f}%\")"
   ]
  },
  {
   "cell_type": "code",
   "execution_count": null,
   "metadata": {},
   "outputs": [],
   "source": [
    "test_loader = dataloaders[TEST]\n",
    "batch_idx, (images, labels) = next(enumerate(test_loader))\n",
    "dataset = image_datasets[TEST]\n",
    "model.eval()\n",
    "with torch.no_grad():\n",
    "    output = model(images)  \n",
    "    fig, axes = plt.subplots(5, 3, figsize=(15, 8))\n",
    "    predictions = output.argmax(dim=1)  \n",
    "    for i, ax in enumerate(axes.flat):    \n",
    "        if i >= len(predictions) :\n",
    "            break    \n",
    "        ax.imshow(images[i].numpy().transpose((1, 2, 0)))\n",
    "        prediction = predictions[i].item()\n",
    "        target = labels[i].item()\n",
    "        ax.axis(\"off\")\n",
    "        ax.set_title(f\"pred={class_names[prediction]}, real={class_names[target]}\", color='green' if prediction == target else 'red')\n",
    "    plt.show()"
   ]
  }
 ],
 "metadata": {
  "kernelspec": {
   "display_name": "deep_learning",
   "language": "python",
   "name": "python3"
  },
  "language_info": {
   "codemirror_mode": {
    "name": "ipython",
    "version": 3
   },
   "file_extension": ".py",
   "mimetype": "text/x-python",
   "name": "python",
   "nbconvert_exporter": "python",
   "pygments_lexer": "ipython3",
   "version": "3.12.3"
  }
 },
 "nbformat": 4,
 "nbformat_minor": 2
}
