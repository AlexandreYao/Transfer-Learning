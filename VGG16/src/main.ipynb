{
 "cells": [
  {
   "cell_type": "code",
   "execution_count": null,
   "metadata": {},
   "outputs": [],
   "source": [
    "import random\n",
    "import torch\n",
    "from torchvision import transforms, datasets\n",
    "from torchvision.models import vgg16\n",
    "import matplotlib.pyplot as plt\n",
    "import torch.nn as nn\n",
    "from tqdm import tqdm\n",
    "import torch.optim as optim\n",
    "import numpy as np\n",
    "import os\n",
    "\n",
    "\n",
    "manualSeed = 999 # Set random seed for reproducibility\n",
    "print(\"Random Seed: \", manualSeed)\n",
    "random.seed(manualSeed)\n",
    "torch.manual_seed(manualSeed)\n",
    "torch.use_deterministic_algorithms(True)  # Needed for reproducible results\n",
    "device = torch.device(\"cuda\" if torch.cuda.is_available() else \"cpu\")\n",
    "print(f\"runnning on {device}\")"
   ]
  },
  {
   "cell_type": "markdown",
   "metadata": {},
   "source": [
    "# Hyperparameters"
   ]
  },
  {
   "cell_type": "code",
   "execution_count": null,
   "metadata": {},
   "outputs": [],
   "source": [
    "batch_size = 16\n",
    "learning_rate = 0.001\n",
    "num_epochs = 1"
   ]
  },
  {
   "cell_type": "markdown",
   "metadata": {},
   "source": [
    "# Datasets"
   ]
  },
  {
   "cell_type": "code",
   "execution_count": null,
   "metadata": {},
   "outputs": [],
   "source": [
    "data_dir = r\"C:\\Users\\yaoko\\Downloads\\archive\\fruits-360-original-size\\fruits-360-original-size\"\n",
    "TRAIN = \"Training\"\n",
    "VAL = \"Validation\"\n",
    "TEST = \"Test\"\n",
    "data_transforms = {\n",
    "    TRAIN: transforms.Compose(\n",
    "        [\n",
    "            transforms.Resize((224, 224)),\n",
    "            transforms.RandomHorizontalFlip(),\n",
    "            transforms.ToTensor(),\n",
    "        ]\n",
    "    ),\n",
    "    VAL: transforms.Compose(\n",
    "        [\n",
    "            transforms.Resize((224, 224)),\n",
    "            # transforms.CenterCrop(224),\n",
    "            transforms.ToTensor(),\n",
    "        ]\n",
    "    ),\n",
    "    TEST: transforms.Compose(\n",
    "        [\n",
    "            transforms.Resize((224, 224)),\n",
    "            # transforms.CenterCrop(224),\n",
    "            transforms.ToTensor(),\n",
    "        ]\n",
    "    ),\n",
    "}\n",
    "image_datasets = {\n",
    "    x: datasets.ImageFolder(os.path.join(data_dir, x), transform=data_transforms[x])\n",
    "    for x in [TRAIN, VAL, TEST]\n",
    "}\n",
    "dataloaders = {\n",
    "    x: torch.utils.data.DataLoader(\n",
    "        image_datasets[x], batch_size=batch_size, shuffle=True, num_workers=4\n",
    "    )\n",
    "    for x in [TRAIN, VAL, TEST]\n",
    "}\n",
    "dataset_sizes = {x: len(image_datasets[x]) for x in [TRAIN, VAL, TEST]}\n",
    "for x in [TRAIN, VAL, TEST]:\n",
    "    print(\"Loaded {} images under {}\".format(dataset_sizes[x], x))\n",
    "class_names = image_datasets[TRAIN].classes\n",
    "n_classes = len(class_names)\n",
    "print(\"Nb of classes :\", len(class_names))"
   ]
  },
  {
   "cell_type": "code",
   "execution_count": null,
   "metadata": {},
   "outputs": [],
   "source": [
    "num_images_to_display = 10\n",
    "dataset = image_datasets[TRAIN]\n",
    "fig, axes = plt.subplots(2, 5, figsize=(15, 8))\n",
    "for i, ith_dataset in enumerate(\n",
    "    np.random.randint(low=0, high=len(dataset), size=num_images_to_display)\n",
    "):\n",
    "    image, label = dataset[ith_dataset]\n",
    "    axes[i // 5, i % 5].imshow(image.numpy().transpose((1, 2, 0)))\n",
    "    axes[i // 5, i % 5].axis(\"off\")\n",
    "    axes[i // 5, i % 5].set_title(class_names[label])\n",
    "plt.show()"
   ]
  },
  {
   "cell_type": "markdown",
   "metadata": {},
   "source": [
    "# Model"
   ]
  },
  {
   "cell_type": "code",
   "execution_count": null,
   "metadata": {},
   "outputs": [],
   "source": [
    "model = vgg16(weights='DEFAULT')\n",
    "# Freeze training for all layers\n",
    "for param in model.parameters():\n",
    "    param.require_grad = False\n",
    "n_inputs = model.classifier[6].in_features\n",
    "model.classifier[6] = nn.Sequential(\n",
    "    nn.Linear(n_inputs, n_classes), \n",
    "    nn.LogSoftmax(dim=1)\n",
    ")\n",
    "print(model.classifier)"
   ]
  },
  {
   "cell_type": "code",
   "execution_count": null,
   "metadata": {},
   "outputs": [],
   "source": [
    "criterion = nn.NLLLoss()\n",
    "optimizer = optim.Adam(model.parameters(), lr=learning_rate)\n",
    "# Boucle d'entraînement\n",
    "train_losses = []\n",
    "dataloader = dataloaders[TRAIN]\n",
    "n_batch = len(dataloader)\n",
    "for epoch in range(num_epochs):\n",
    "    model.train()\n",
    "    epoch_loss = 0.0\n",
    "    print(f\"Epoch {epoch+1}...\")\n",
    "    for batch_data in tqdm(dataloader, total=n_batch):\n",
    "        images = batch_data[0].to(device)\n",
    "        labels = batch_data[1].to(device)\n",
    "        # Réinitialiser les gradients\n",
    "        optimizer.zero_grad()\n",
    "        # Propagation avant\n",
    "        predictions = model(images)\n",
    "        # Calcul de la perte\n",
    "        loss = criterion(predictions, labels)\n",
    "        # Rétropropagation\n",
    "        loss.backward()\n",
    "        # Mise à jour des poids\n",
    "        optimizer.step()\n",
    "        epoch_loss += loss.item()\n",
    "    epoch_loss /= n_batch\n",
    "    train_losses.append(epoch_loss)\n",
    "    print(f\"Epoch [{epoch+1}/{num_epochs}], loss: {epoch_loss:.4f}\")"
   ]
  },
  {
   "cell_type": "code",
   "execution_count": null,
   "metadata": {},
   "outputs": [],
   "source": [
    "test_loader = dataloaders[TEST]\n",
    "batch_idx, (images, labels) = next(enumerate(test_loader))\n",
    "num_images_to_display = 10\n",
    "dataset = image_datasets[TEST]\n",
    "with torch.no_grad():\n",
    "    output = model(images)  # Forward pass of the model with images\n",
    "    fig, axes = plt.subplots(2, 3, figsize=(15, 8))\n",
    "    predictions = output.argmax(dim=1)  # Calculate predictions once\n",
    "    for i, ax in enumerate(axes.flat):        \n",
    "        ax.imshow(images[i].numpy().transpose((1, 2, 0)))\n",
    "        prediction = predictions[i].item()\n",
    "        target = labels[i].item()\n",
    "        ax.axis(\"off\")\n",
    "        ax.set_title(f\"pred={class_names[prediction]}, real={class_names[target]}\", color='green' if prediction == target else 'red')\n",
    "    plt.show()"
   ]
  }
 ],
 "metadata": {
  "kernelspec": {
   "display_name": "deep_learning",
   "language": "python",
   "name": "python3"
  },
  "language_info": {
   "codemirror_mode": {
    "name": "ipython",
    "version": 3
   },
   "file_extension": ".py",
   "mimetype": "text/x-python",
   "name": "python",
   "nbconvert_exporter": "python",
   "pygments_lexer": "ipython3",
   "version": "3.12.3"
  }
 },
 "nbformat": 4,
 "nbformat_minor": 2
}
